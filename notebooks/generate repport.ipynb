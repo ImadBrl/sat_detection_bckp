{
 "cells": [
  {
   "cell_type": "code",
   "execution_count": null,
   "id": "c76ea82e",
   "metadata": {},
   "outputs": [],
   "source": [
    "import os\n",
    "from collections import defaultdict\n",
    "from config.config import ANNOTATIONS_DIR, CLASSES_FILE, REPORT_FILE"
   ]
  },
  {
   "cell_type": "code",
   "execution_count": null,
   "id": "fea9fd45",
   "metadata": {},
   "outputs": [],
   "source": [
    "annotations_dir = ANNOTATIONS_DIR  \n",
    "classes_file = CLASSES_FILE\n",
    "output_file = REPORT_FILE\n"
   ]
  },
  {
   "cell_type": "code",
   "execution_count": 3,
   "id": "d9a94921",
   "metadata": {},
   "outputs": [],
   "source": [
    "# Charger la correspondance ID → nom de classe\n",
    "def load_classes(classes_file):\n",
    "    with open(classes_file, \"r\") as f:\n",
    "        return [line.strip() for line in f.readlines()]"
   ]
  },
  {
   "cell_type": "code",
   "execution_count": 4,
   "id": "0ddfcf2c",
   "metadata": {},
   "outputs": [],
   "source": [
    "# Lire un fichier d'annotation et compter les objets\n",
    "def read_annotation(file_path, classes):\n",
    "    counts = defaultdict(int)\n",
    "    with open(file_path, \"r\") as f:\n",
    "        for line in f:\n",
    "            if line.strip():\n",
    "                class_id = int(line.strip().split()[0])\n",
    "                class_name = classes[class_id]\n",
    "                counts[class_name] += 1\n",
    "    return counts"
   ]
  },
  {
   "cell_type": "code",
   "execution_count": 5,
   "id": "431e367a",
   "metadata": {},
   "outputs": [],
   "source": [
    "# Générer un paragraphe descriptif\n",
    "def generate_description(tile_name, object_counts):\n",
    "    y, x = tile_name.replace(\"tile_\", \"\").replace(\".txt\", \"\").split(\"_\")\n",
    "    description = f\"Tuiles ({x}px, {y}px) : \"\n",
    "    if not object_counts:\n",
    "        return description + \"aucun objet détecté.\"\n",
    "    description += \", \".join(f\"{v} {k}(s)\" for k, v in object_counts.items()) + \".\"\n",
    "    return description"
   ]
  },
  {
   "cell_type": "code",
   "execution_count": 9,
   "id": "2fbc34fb",
   "metadata": {},
   "outputs": [],
   "source": [
    "# Générer le rapport global\n",
    "def generate_report(annotations_dir, classes_file, output_file):\n",
    "    classes = load_classes(classes_file)\n",
    "    descriptions = []\n",
    "\n",
    "    for fname in sorted(os.listdir(annotations_dir)):\n",
    "        if fname.endswith(\".txt\") and fname != \"classes.txt\":\n",
    "            fpath = os.path.join(annotations_dir, fname)\n",
    "            counts = read_annotation(fpath, classes)\n",
    "            desc = generate_description(fname, counts)\n",
    "            descriptions.append(desc)\n",
    "\n",
    "    # Sauvegarder le rapport\n",
    "    with open(output_file, \"w\", encoding=\"utf-8\") as f:\n",
    "        f.write(\"\\n\".join(descriptions))"
   ]
  },
  {
   "cell_type": "code",
   "execution_count": null,
   "id": "296b03ee",
   "metadata": {},
   "outputs": [],
   "source": [
    "# Exemple d'utilisation\n",
    "generate_report(\n",
    "    annotations_dir,  \n",
    "    classes_file,\n",
    "    output_file\n",
    ")"
   ]
  },
  {
   "cell_type": "code",
   "execution_count": null,
   "id": "702afb06",
   "metadata": {},
   "outputs": [],
   "source": []
  },
  {
   "cell_type": "code",
   "execution_count": null,
   "id": "af66728d",
   "metadata": {},
   "outputs": [],
   "source": []
  }
 ],
 "metadata": {
  "kernelspec": {
   "display_name": "base",
   "language": "python",
   "name": "python3"
  },
  "language_info": {
   "codemirror_mode": {
    "name": "ipython",
    "version": 3
   },
   "file_extension": ".py",
   "mimetype": "text/x-python",
   "name": "python",
   "nbconvert_exporter": "python",
   "pygments_lexer": "ipython3",
   "version": "3.10.9"
  }
 },
 "nbformat": 4,
 "nbformat_minor": 5
}
