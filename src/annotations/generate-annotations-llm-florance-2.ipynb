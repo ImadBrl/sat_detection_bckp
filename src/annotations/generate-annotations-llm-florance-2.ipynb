{
 "cells": [
  {
   "cell_type": "markdown",
   "metadata": {},
   "source": [
    "Les bibliotheques"
   ]
  },
  {
   "cell_type": "code",
   "execution_count": null,
   "metadata": {
    "_cell_guid": "b1076dfc-b9ad-4769-8c92-a6c4dae69d19",
    "_uuid": "8f2839f25d086af736a60e9eeb907d3b93b6e0e5",
    "execution": {
     "iopub.execute_input": "2025-06-23T13:23:22.681963Z",
     "iopub.status.busy": "2025-06-23T13:23:22.681396Z",
     "iopub.status.idle": "2025-06-23T13:23:47.291369Z",
     "shell.execute_reply": "2025-06-23T13:23:47.290621Z",
     "shell.execute_reply.started": "2025-06-23T13:23:22.681937Z"
    },
    "trusted": true
   },
   "outputs": [
    {
     "name": "stderr",
     "output_type": "stream",
     "text": [
      "2025-06-23 13:23:33.279306: E external/local_xla/xla/stream_executor/cuda/cuda_fft.cc:477] Unable to register cuFFT factory: Attempting to register factory for plugin cuFFT when one has already been registered\n",
      "WARNING: All log messages before absl::InitializeLog() is called are written to STDERR\n",
      "E0000 00:00:1750685013.477213      35 cuda_dnn.cc:8310] Unable to register cuDNN factory: Attempting to register factory for plugin cuDNN when one has already been registered\n",
      "E0000 00:00:1750685013.535683      35 cuda_blas.cc:1418] Unable to register cuBLAS factory: Attempting to register factory for plugin cuBLAS when one has already been registered\n"
     ]
    }
   ],
   "source": [
    "from config.config import PROCESSED_DATA_DIR, ANNOTATIONS_DIR, CLASSES_FILE\n",
    "from transformers import AutoProcessor, AutoModelForCausalLM  \n",
    "from PIL import Image\n",
    "import requests\n",
    "import copy\n",
    "import torch\n",
    "from tqdm import tqdm\n",
    "import os\n",
    "import gc\n",
    "%matplotlib inline  "
   ]
  },
  {
   "cell_type": "code",
   "execution_count": 5,
   "metadata": {
    "execution": {
     "iopub.execute_input": "2025-06-23T13:23:47.293025Z",
     "iopub.status.busy": "2025-06-23T13:23:47.292590Z",
     "iopub.status.idle": "2025-06-23T13:23:47.297134Z",
     "shell.execute_reply": "2025-06-23T13:23:47.296363Z",
     "shell.execute_reply.started": "2025-06-23T13:23:47.293006Z"
    },
    "trusted": true
   },
   "outputs": [
    {
     "name": "stdout",
     "output_type": "stream",
     "text": [
      "device used here is: cuda\n"
     ]
    }
   ],
   "source": [
    "device = \"cuda\" if torch.cuda.is_available() else \"cpu\"\n",
    "print(f\"device used here is: {device}\")"
   ]
  },
  {
   "cell_type": "code",
   "execution_count": 6,
   "metadata": {
    "execution": {
     "iopub.execute_input": "2025-06-23T13:23:47.298262Z",
     "iopub.status.busy": "2025-06-23T13:23:47.297995Z",
     "iopub.status.idle": "2025-06-23T13:29:43.534215Z",
     "shell.execute_reply": "2025-06-23T13:29:43.533393Z",
     "shell.execute_reply.started": "2025-06-23T13:23:47.298236Z"
    },
    "trusted": true
   },
   "outputs": [
    {
     "data": {
      "application/vnd.jupyter.widget-view+json": {
       "model_id": "4c4959cce6a34bccbcc780942812c463",
       "version_major": 2,
       "version_minor": 0
      },
      "text/plain": [
       "config.json:   0%|          | 0.00/2.44k [00:00<?, ?B/s]"
      ]
     },
     "metadata": {},
     "output_type": "display_data"
    },
    {
     "data": {
      "application/vnd.jupyter.widget-view+json": {
       "model_id": "b4dd85626006405fa153f3a4aff49829",
       "version_major": 2,
       "version_minor": 0
      },
      "text/plain": [
       "configuration_florence2.py:   0%|          | 0.00/15.1k [00:00<?, ?B/s]"
      ]
     },
     "metadata": {},
     "output_type": "display_data"
    },
    {
     "name": "stderr",
     "output_type": "stream",
     "text": [
      "A new version of the following files was downloaded from https://huggingface.co/microsoft/Florence-2-large:\n",
      "- configuration_florence2.py\n",
      ". Make sure to double-check they do not contain any added malicious code. To avoid downloading new versions of the code file, you can pin a revision.\n"
     ]
    },
    {
     "data": {
      "application/vnd.jupyter.widget-view+json": {
       "model_id": "553a862cf8944d53a57b3db3aa7b3309",
       "version_major": 2,
       "version_minor": 0
      },
      "text/plain": [
       "modeling_florence2.py:   0%|          | 0.00/127k [00:00<?, ?B/s]"
      ]
     },
     "metadata": {},
     "output_type": "display_data"
    },
    {
     "name": "stderr",
     "output_type": "stream",
     "text": [
      "A new version of the following files was downloaded from https://huggingface.co/microsoft/Florence-2-large:\n",
      "- modeling_florence2.py\n",
      ". Make sure to double-check they do not contain any added malicious code. To avoid downloading new versions of the code file, you can pin a revision.\n",
      "/usr/local/lib/python3.11/dist-packages/timm/models/layers/__init__.py:48: FutureWarning: Importing from timm.models.layers is deprecated, please import via timm.layers\n",
      "  warnings.warn(f\"Importing from {__name__} is deprecated, please import via timm.layers\", FutureWarning)\n"
     ]
    },
    {
     "data": {
      "application/vnd.jupyter.widget-view+json": {
       "model_id": "df854541cf5b447d8c2db31e09d2f474",
       "version_major": 2,
       "version_minor": 0
      },
      "text/plain": [
       "pytorch_model.bin:   0%|          | 0.00/1.56G [00:00<?, ?B/s]"
      ]
     },
     "metadata": {},
     "output_type": "display_data"
    },
    {
     "data": {
      "application/vnd.jupyter.widget-view+json": {
       "model_id": "95278a72e46b4419a6dc97311785da18",
       "version_major": 2,
       "version_minor": 0
      },
      "text/plain": [
       "generation_config.json:   0%|          | 0.00/51.0 [00:00<?, ?B/s]"
      ]
     },
     "metadata": {},
     "output_type": "display_data"
    },
    {
     "data": {
      "application/vnd.jupyter.widget-view+json": {
       "model_id": "c6d4ed1228cb449bb959072d43ee013f",
       "version_major": 2,
       "version_minor": 0
      },
      "text/plain": [
       "preprocessor_config.json:   0%|          | 0.00/806 [00:00<?, ?B/s]"
      ]
     },
     "metadata": {},
     "output_type": "display_data"
    },
    {
     "data": {
      "application/vnd.jupyter.widget-view+json": {
       "model_id": "107fe7dfbad4473f83af0502f6bff6d2",
       "version_major": 2,
       "version_minor": 0
      },
      "text/plain": [
       "processing_florence2.py:   0%|          | 0.00/48.7k [00:00<?, ?B/s]"
      ]
     },
     "metadata": {},
     "output_type": "display_data"
    },
    {
     "name": "stderr",
     "output_type": "stream",
     "text": [
      "A new version of the following files was downloaded from https://huggingface.co/microsoft/Florence-2-large:\n",
      "- processing_florence2.py\n",
      ". Make sure to double-check they do not contain any added malicious code. To avoid downloading new versions of the code file, you can pin a revision.\n"
     ]
    },
    {
     "data": {
      "application/vnd.jupyter.widget-view+json": {
       "model_id": "5eda343401394e108dea2b5e93bd0a02",
       "version_major": 2,
       "version_minor": 0
      },
      "text/plain": [
       "tokenizer_config.json:   0%|          | 0.00/34.0 [00:00<?, ?B/s]"
      ]
     },
     "metadata": {},
     "output_type": "display_data"
    },
    {
     "data": {
      "application/vnd.jupyter.widget-view+json": {
       "model_id": "4ab879ad61c44ca19d02cb83ab9dea63",
       "version_major": 2,
       "version_minor": 0
      },
      "text/plain": [
       "vocab.json:   0%|          | 0.00/1.10M [00:00<?, ?B/s]"
      ]
     },
     "metadata": {},
     "output_type": "display_data"
    },
    {
     "data": {
      "application/vnd.jupyter.widget-view+json": {
       "model_id": "3c66ea5023c1418fb8218a50060ad76d",
       "version_major": 2,
       "version_minor": 0
      },
      "text/plain": [
       "tokenizer.json:   0%|          | 0.00/1.36M [00:00<?, ?B/s]"
      ]
     },
     "metadata": {},
     "output_type": "display_data"
    }
   ],
   "source": [
    "model_id = 'microsoft/Florence-2-large'\n",
    "model = AutoModelForCausalLM.from_pretrained(model_id, trust_remote_code=True, torch_dtype='auto').eval().cuda()\n",
    "processor = AutoProcessor.from_pretrained(model_id, trust_remote_code=True)"
   ]
  },
  {
   "cell_type": "markdown",
   "metadata": {},
   "source": [
    "Les fichiers"
   ]
  },
  {
   "cell_type": "code",
   "execution_count": null,
   "metadata": {
    "execution": {
     "iopub.execute_input": "2025-06-23T13:29:43.535889Z",
     "iopub.status.busy": "2025-06-23T13:29:43.535593Z",
     "iopub.status.idle": "2025-06-23T13:29:43.539379Z",
     "shell.execute_reply": "2025-06-23T13:29:43.538727Z",
     "shell.execute_reply.started": "2025-06-23T13:29:43.535864Z"
    },
    "trusted": true
   },
   "outputs": [],
   "source": [
    "input_folder = PROCESSED_DATA_DIR\n",
    "output_folder = ANNOTATIONS_DIR\n",
    "os.makedirs(output_dir, exist_ok=True)"
   ]
  },
  {
   "cell_type": "code",
   "execution_count": 9,
   "metadata": {
    "execution": {
     "iopub.execute_input": "2025-06-23T13:31:21.482351Z",
     "iopub.status.busy": "2025-06-23T13:31:21.481634Z",
     "iopub.status.idle": "2025-06-23T13:31:21.486224Z",
     "shell.execute_reply": "2025-06-23T13:31:21.485490Z",
     "shell.execute_reply.started": "2025-06-23T13:31:21.482325Z"
    },
    "trusted": true
   },
   "outputs": [],
   "source": [
    "def load_class_map(classes_file):\n",
    "    custom_class_map = {}\n",
    "    with open(classes_file, \"r\") as f:\n",
    "        for idx, line in enumerate(f):\n",
    "            label = line.strip()\n",
    "            custom_class_map[label] = idx\n",
    "    return custom_class_map"
   ]
  },
  {
   "cell_type": "markdown",
   "metadata": {},
   "source": [
    "Liste des classes COCO"
   ]
  },
  {
   "cell_type": "code",
   "execution_count": 2,
   "metadata": {
    "execution": {
     "iopub.execute_input": "2025-06-23T13:22:13.452846Z",
     "iopub.status.busy": "2025-06-23T13:22:13.452178Z",
     "iopub.status.idle": "2025-06-23T13:22:13.456149Z",
     "shell.execute_reply": "2025-06-23T13:22:13.455463Z",
     "shell.execute_reply.started": "2025-06-23T13:22:13.452820Z"
    },
    "trusted": true
   },
   "outputs": [],
   "source": [
    "custom_class_map = {}\n",
    "class_counter = 0"
   ]
  },
  {
   "cell_type": "code",
   "execution_count": null,
   "metadata": {
    "execution": {
     "iopub.execute_input": "2025-06-23T13:31:25.004644Z",
     "iopub.status.busy": "2025-06-23T13:31:25.004045Z",
     "iopub.status.idle": "2025-06-23T13:31:25.018553Z",
     "shell.execute_reply": "2025-06-23T13:31:25.017856Z",
     "shell.execute_reply.started": "2025-06-23T13:31:25.004620Z"
    },
    "trusted": true
   },
   "outputs": [],
   "source": [
    "classes_file_path = CLASSES_FILE\n",
    "custom_class_map = load_class_map(classes_file_path)\n",
    "class_counter = max(custom_class_map.values()) + 1  "
   ]
  },
  {
   "cell_type": "code",
   "execution_count": 3,
   "metadata": {
    "execution": {
     "iopub.execute_input": "2025-06-23T13:22:32.275680Z",
     "iopub.status.busy": "2025-06-23T13:22:32.275126Z",
     "iopub.status.idle": "2025-06-23T13:22:32.280162Z",
     "shell.execute_reply": "2025-06-23T13:22:32.279494Z",
     "shell.execute_reply.started": "2025-06-23T13:22:32.275656Z"
    },
    "trusted": true
   },
   "outputs": [],
   "source": [
    "def run_example(task_prompt, image):\n",
    "    inputs = processor(text=task_prompt, images=image, return_tensors=\"pt\").to(\"cuda\", torch.float16)\n",
    "\n",
    "    generated_ids = model.generate(\n",
    "        input_ids=inputs[\"input_ids\"],\n",
    "        pixel_values=inputs[\"pixel_values\"],\n",
    "        max_new_tokens=1024,\n",
    "        early_stopping=False,\n",
    "        do_sample=False,\n",
    "        num_beams=1  # Réduit la mémoire GPU utilisée\n",
    "    )\n",
    "\n",
    "    generated_text = processor.batch_decode(generated_ids, skip_special_tokens=False)[0]\n",
    "    parsed_answer = processor.post_process_generation(\n",
    "        generated_text,\n",
    "        task=task_prompt,\n",
    "        image_size=(image.width, image.height)\n",
    "    )\n",
    "    return parsed_answer\n"
   ]
  },
  {
   "cell_type": "markdown",
   "metadata": {},
   "source": [
    "Conversion des résultats Florence -> YOLO"
   ]
  },
  {
   "cell_type": "code",
   "execution_count": 11,
   "metadata": {
    "execution": {
     "iopub.execute_input": "2025-06-23T13:32:41.587236Z",
     "iopub.status.busy": "2025-06-23T13:32:41.586556Z",
     "iopub.status.idle": "2025-06-23T13:32:41.592414Z",
     "shell.execute_reply": "2025-06-23T13:32:41.591644Z",
     "shell.execute_reply.started": "2025-06-23T13:32:41.587213Z"
    },
    "trusted": true
   },
   "outputs": [],
   "source": [
    "def convert_bboxes_to_yolo(bboxes, labels, image_width, image_height):\n",
    "    global custom_class_map, class_counter\n",
    "    yolo_lines = []\n",
    "    for box, label in zip(bboxes, labels):\n",
    "        x1, y1, x2, y2 = box\n",
    "        x_center = (x1 + x2) / 2 / image_width\n",
    "        y_center = (y1 + y2) / 2 / image_height\n",
    "        width = (x2 - x1) / image_width\n",
    "        height = (y2 - y1) / image_height\n",
    "\n",
    "        if label not in custom_class_map:\n",
    "            custom_class_map[label] = class_counter\n",
    "            print(f\"Nouvelle classe détectée : {label} → ID {class_counter}\")\n",
    "            class_counter += 1\n",
    "\n",
    "        class_id = custom_class_map[label]\n",
    "        yolo_lines.append(f\"{class_id} {x_center:.6f} {y_center:.6f} {width:.6f} {height:.6f}\")\n",
    "    return yolo_lines"
   ]
  },
  {
   "cell_type": "markdown",
   "metadata": {},
   "source": [
    "Nettoyage du résultat Florence"
   ]
  },
  {
   "cell_type": "code",
   "execution_count": 12,
   "metadata": {
    "execution": {
     "iopub.execute_input": "2025-06-23T13:32:44.298151Z",
     "iopub.status.busy": "2025-06-23T13:32:44.297705Z",
     "iopub.status.idle": "2025-06-23T13:32:44.302008Z",
     "shell.execute_reply": "2025-06-23T13:32:44.301236Z",
     "shell.execute_reply.started": "2025-06-23T13:32:44.298129Z"
    },
    "trusted": true
   },
   "outputs": [],
   "source": [
    "def convert_to_od_format(data):\n",
    "    return {\n",
    "        'bboxes': data.get('<OD>', {}).get('bboxes', []),\n",
    "        'labels': data.get('<OD>', {}).get('labels', [])\n",
    "    }"
   ]
  },
  {
   "cell_type": "markdown",
   "metadata": {},
   "source": [
    "Pipeline complet multi-image"
   ]
  },
  {
   "cell_type": "code",
   "execution_count": null,
   "metadata": {
    "execution": {
     "iopub.execute_input": "2025-06-23T13:33:40.259817Z",
     "iopub.status.busy": "2025-06-23T13:33:40.259122Z",
     "iopub.status.idle": "2025-06-23T13:33:40.266597Z",
     "shell.execute_reply": "2025-06-23T13:33:40.265967Z",
     "shell.execute_reply.started": "2025-06-23T13:33:40.259793Z"
    },
    "trusted": true
   },
   "outputs": [],
   "source": [
    "def process_all_images(input_dir, output_dir):\n",
    "    images = [f for f in os.listdir(input_dir) if f.lower().endswith(('.png', '.jpg', '.jpeg', '.tif'))]\n",
    "    task_prompt = \"<OD>\"\n",
    "\n",
    "    for img_file in tqdm(images, desc=\"Traitement des images\"):\n",
    "        try:\n",
    "            image_path = os.path.join(input_dir, img_file)\n",
    "            image = Image.open(image_path).convert(\"RGB\")\n",
    "\n",
    "            parsed = run_example(task_prompt, image)\n",
    "            result = convert_to_od_format(parsed)\n",
    "\n",
    "            yolo_lines = convert_bboxes_to_yolo(result['bboxes'], result['labels'], image.width, image.height)\n",
    "\n",
    "            # Sauvegarde des annotations\n",
    "            txt_file = os.path.splitext(img_file)[0] + \".txt\"\n",
    "            with open(os.path.join(output_dir, txt_file), \"w\") as f:\n",
    "                f.write(\"\\n\".join(yolo_lines))\n",
    "\n",
    "        except Exception as e:\n",
    "            print(f\"Erreur avec {img_file} : {e}\")\n",
    "\n",
    "        finally:\n",
    "            # Libérer la mémoire GPU après chaque image\n",
    "            del image\n",
    "            torch.cuda.empty_cache()\n",
    "            gc.collect()\n",
    "\n",
    "    # === 8. Génération du fichier des classes\n",
    "    classes_output_path = os.path.join(output_dir, \"classes.txt\")\n",
    "    if not os.path.exists(classes_output_path):\n",
    "        with open(classes_output_path, \"w\") as f:\n",
    "            for label, idx in sorted(custom_class_map.items(), key=lambda x: x[1]):\n",
    "                f.write(f\"{label}\\n\")"
   ]
  },
  {
   "cell_type": "code",
   "execution_count": 14,
   "metadata": {
    "execution": {
     "iopub.execute_input": "2025-06-23T13:33:49.518575Z",
     "iopub.status.busy": "2025-06-23T13:33:49.517993Z",
     "iopub.status.idle": "2025-06-23T13:46:11.187295Z",
     "shell.execute_reply": "2025-06-23T13:46:11.186574Z",
     "shell.execute_reply.started": "2025-06-23T13:33:49.518553Z"
    },
    "trusted": true
   },
   "outputs": [
    {
     "name": "stderr",
     "output_type": "stream",
     "text": [
      "Traitement des images:   1%|          | 6/956 [00:06<13:10,  1.20it/s]"
     ]
    },
    {
     "name": "stdout",
     "output_type": "stream",
     "text": [
      "Nouvelle classe détectée : plate → ID 76\n"
     ]
    },
    {
     "name": "stderr",
     "output_type": "stream",
     "text": [
      "Traitement des images:   2%|▏         | 17/956 [00:14<11:50,  1.32it/s]"
     ]
    },
    {
     "name": "stdout",
     "output_type": "stream",
     "text": [
      "Nouvelle classe détectée : toilet → ID 77\n"
     ]
    },
    {
     "name": "stderr",
     "output_type": "stream",
     "text": [
      "Traitement des images:   3%|▎         | 24/956 [00:19<11:50,  1.31it/s]"
     ]
    },
    {
     "name": "stdout",
     "output_type": "stream",
     "text": [
      "Nouvelle classe détectée : palm tree → ID 78\n"
     ]
    },
    {
     "name": "stderr",
     "output_type": "stream",
     "text": [
      "Traitement des images:   3%|▎         | 27/956 [00:21<11:39,  1.33it/s]"
     ]
    },
    {
     "name": "stdout",
     "output_type": "stream",
     "text": [
      "Nouvelle classe détectée : maple → ID 79\n"
     ]
    },
    {
     "name": "stderr",
     "output_type": "stream",
     "text": [
      "Traitement des images:   3%|▎         | 31/956 [00:24<11:30,  1.34it/s]"
     ]
    },
    {
     "name": "stdout",
     "output_type": "stream",
     "text": [
      "Nouvelle classe détectée : street sign → ID 80\n"
     ]
    },
    {
     "name": "stderr",
     "output_type": "stream",
     "text": [
      "Traitement des images:   4%|▍         | 42/956 [00:33<12:06,  1.26it/s]"
     ]
    },
    {
     "name": "stdout",
     "output_type": "stream",
     "text": [
      "Nouvelle classe détectée : bicycle → ID 81\n"
     ]
    },
    {
     "name": "stderr",
     "output_type": "stream",
     "text": [
      "Traitement des images:   5%|▌         | 48/956 [00:38<11:50,  1.28it/s]"
     ]
    },
    {
     "name": "stdout",
     "output_type": "stream",
     "text": [
      "Nouvelle classe détectée : scissors → ID 82\n"
     ]
    },
    {
     "name": "stderr",
     "output_type": "stream",
     "text": [
      "Traitement des images:   6%|▌         | 53/956 [00:42<11:28,  1.31it/s]"
     ]
    },
    {
     "name": "stdout",
     "output_type": "stream",
     "text": [
      "Nouvelle classe détectée : cat → ID 83\n"
     ]
    },
    {
     "name": "stderr",
     "output_type": "stream",
     "text": [
      "Traitement des images:  10%|▉         | 92/956 [01:11<11:05,  1.30it/s]"
     ]
    },
    {
     "name": "stdout",
     "output_type": "stream",
     "text": [
      "Nouvelle classe détectée : boat → ID 84\n"
     ]
    },
    {
     "name": "stderr",
     "output_type": "stream",
     "text": [
      "Traitement des images:  10%|█         | 98/956 [01:16<11:04,  1.29it/s]"
     ]
    },
    {
     "name": "stdout",
     "output_type": "stream",
     "text": [
      "Nouvelle classe détectée : wheelchair → ID 85\n"
     ]
    },
    {
     "name": "stderr",
     "output_type": "stream",
     "text": [
      "Traitement des images:  11%|█▏        | 109/956 [01:24<10:48,  1.31it/s]"
     ]
    },
    {
     "name": "stdout",
     "output_type": "stream",
     "text": [
      "Nouvelle classe détectée : vehicle → ID 86\n"
     ]
    },
    {
     "name": "stderr",
     "output_type": "stream",
     "text": [
      "Traitement des images:  14%|█▍        | 135/956 [01:44<10:33,  1.30it/s]"
     ]
    },
    {
     "name": "stdout",
     "output_type": "stream",
     "text": [
      "Nouvelle classe détectée : support hose → ID 87\n"
     ]
    },
    {
     "name": "stderr",
     "output_type": "stream",
     "text": [
      "Traitement des images:  15%|█▍        | 139/956 [01:48<10:28,  1.30it/s]"
     ]
    },
    {
     "name": "stdout",
     "output_type": "stream",
     "text": [
      "Nouvelle classe détectée : taillight → ID 88\n"
     ]
    },
    {
     "name": "stderr",
     "output_type": "stream",
     "text": [
      "Traitement des images:  16%|█▌        | 150/956 [01:56<10:22,  1.29it/s]"
     ]
    },
    {
     "name": "stdout",
     "output_type": "stream",
     "text": [
      "Nouvelle classe détectée : willow → ID 89\n"
     ]
    },
    {
     "name": "stderr",
     "output_type": "stream",
     "text": [
      "Traitement des images:  23%|██▎       | 224/956 [02:53<09:18,  1.31it/s]"
     ]
    },
    {
     "name": "stdout",
     "output_type": "stream",
     "text": [
      "Nouvelle classe détectée : air conditioner → ID 90\n"
     ]
    },
    {
     "name": "stderr",
     "output_type": "stream",
     "text": [
      "Traitement des images:  24%|██▍       | 231/956 [02:59<10:02,  1.20it/s]"
     ]
    },
    {
     "name": "stdout",
     "output_type": "stream",
     "text": [
      "Nouvelle classe détectée : swimming pool → ID 91\n"
     ]
    },
    {
     "name": "stderr",
     "output_type": "stream",
     "text": [
      "Traitement des images:  26%|██▌       | 244/956 [03:09<09:07,  1.30it/s]"
     ]
    },
    {
     "name": "stdout",
     "output_type": "stream",
     "text": [
      "Nouvelle classe détectée : sink → ID 92\n"
     ]
    },
    {
     "name": "stderr",
     "output_type": "stream",
     "text": [
      "Traitement des images:  28%|██▊       | 268/956 [03:28<08:59,  1.27it/s]"
     ]
    },
    {
     "name": "stdout",
     "output_type": "stream",
     "text": [
      "Nouvelle classe détectée : traffic sign → ID 93\n"
     ]
    },
    {
     "name": "stderr",
     "output_type": "stream",
     "text": [
      "Traitement des images:  29%|██▉       | 277/956 [03:35<08:57,  1.26it/s]"
     ]
    },
    {
     "name": "stdout",
     "output_type": "stream",
     "text": [
      "Nouvelle classe détectée : bowl → ID 94\n"
     ]
    },
    {
     "name": "stderr",
     "output_type": "stream",
     "text": [
      "Traitement des images:  33%|███▎      | 311/956 [04:01<08:15,  1.30it/s]"
     ]
    },
    {
     "name": "stdout",
     "output_type": "stream",
     "text": [
      "Nouvelle classe détectée : cigar → ID 95\n"
     ]
    },
    {
     "name": "stderr",
     "output_type": "stream",
     "text": [
      "Traitement des images:  37%|███▋      | 350/956 [04:32<07:48,  1.29it/s]"
     ]
    },
    {
     "name": "stdout",
     "output_type": "stream",
     "text": [
      "Nouvelle classe détectée : car tire → ID 96\n"
     ]
    },
    {
     "name": "stderr",
     "output_type": "stream",
     "text": [
      "Traitement des images:  37%|███▋      | 358/956 [04:38<07:39,  1.30it/s]"
     ]
    },
    {
     "name": "stdout",
     "output_type": "stream",
     "text": [
      "Nouvelle classe détectée : crate → ID 97\n"
     ]
    },
    {
     "name": "stderr",
     "output_type": "stream",
     "text": [
      "Traitement des images:  40%|████      | 384/956 [04:58<07:30,  1.27it/s]"
     ]
    },
    {
     "name": "stdout",
     "output_type": "stream",
     "text": [
      "Nouvelle classe détectée : mechanical fan → ID 98\n"
     ]
    },
    {
     "name": "stderr",
     "output_type": "stream",
     "text": [
      "Traitement des images:  41%|████      | 388/956 [05:01<07:21,  1.29it/s]"
     ]
    },
    {
     "name": "stdout",
     "output_type": "stream",
     "text": [
      "Nouvelle classe détectée : television → ID 99\n"
     ]
    },
    {
     "name": "stderr",
     "output_type": "stream",
     "text": [
      "Traitement des images:  43%|████▎     | 413/956 [05:21<07:16,  1.24it/s]"
     ]
    },
    {
     "name": "stdout",
     "output_type": "stream",
     "text": [
      "Nouvelle classe détectée : starfish → ID 100\n"
     ]
    },
    {
     "name": "stderr",
     "output_type": "stream",
     "text": [
      "Traitement des images:  58%|█████▊    | 555/956 [07:11<05:32,  1.21it/s]"
     ]
    },
    {
     "name": "stdout",
     "output_type": "stream",
     "text": [
      "Nouvelle classe détectée : drinking straw → ID 101\n"
     ]
    },
    {
     "name": "stderr",
     "output_type": "stream",
     "text": [
      "Traitement des images:  61%|██████▏   | 586/956 [07:34<04:43,  1.31it/s]"
     ]
    },
    {
     "name": "stdout",
     "output_type": "stream",
     "text": [
      "Nouvelle classe détectée : windmill → ID 102\n"
     ]
    },
    {
     "name": "stderr",
     "output_type": "stream",
     "text": [
      "Traitement des images:  74%|███████▍  | 708/956 [09:09<03:10,  1.30it/s]"
     ]
    },
    {
     "name": "stdout",
     "output_type": "stream",
     "text": [
      "Nouvelle classe détectée : handbag → ID 103\n"
     ]
    },
    {
     "name": "stderr",
     "output_type": "stream",
     "text": [
      "Traitement des images:  76%|███████▌  | 725/956 [09:22<02:58,  1.30it/s]"
     ]
    },
    {
     "name": "stdout",
     "output_type": "stream",
     "text": [
      "Nouvelle classe détectée : mirror → ID 104\n"
     ]
    },
    {
     "name": "stderr",
     "output_type": "stream",
     "text": [
      "Traitement des images:  80%|████████  | 767/956 [09:55<02:25,  1.30it/s]"
     ]
    },
    {
     "name": "stdout",
     "output_type": "stream",
     "text": [
      "Nouvelle classe détectée : blanket → ID 105\n"
     ]
    },
    {
     "name": "stderr",
     "output_type": "stream",
     "text": [
      "Traitement des images:  85%|████████▍ | 808/956 [10:26<01:53,  1.31it/s]"
     ]
    },
    {
     "name": "stdout",
     "output_type": "stream",
     "text": [
      "Nouvelle classe détectée : sandal → ID 106\n"
     ]
    },
    {
     "name": "stderr",
     "output_type": "stream",
     "text": [
      "Traitement des images: 100%|██████████| 956/956 [12:21<00:00,  1.29it/s]\n"
     ]
    }
   ],
   "source": [
    "process_all_images(input_folder, output_folder)"
   ]
  },
  {
   "cell_type": "code",
   "execution_count": 21,
   "metadata": {
    "execution": {
     "iopub.execute_input": "2025-06-23T14:11:02.584524Z",
     "iopub.status.busy": "2025-06-23T14:11:02.583604Z",
     "iopub.status.idle": "2025-06-23T14:11:02.590244Z",
     "shell.execute_reply": "2025-06-23T14:11:02.589550Z",
     "shell.execute_reply.started": "2025-06-23T14:11:02.584493Z"
    },
    "trusted": true
   },
   "outputs": [
    {
     "data": {
      "text/plain": [
       "{'bird': 0,\n",
       " 'flagpole': 1,\n",
       " 'suitcase': 2,\n",
       " 'car': 3,\n",
       " 'ball': 4,\n",
       " 'bench': 5,\n",
       " 'nail': 6,\n",
       " 'mobile phone': 7,\n",
       " 'bathtub': 8,\n",
       " 'kite': 9,\n",
       " 'door': 10,\n",
       " 'frisbee': 11,\n",
       " 'flowerpot': 12,\n",
       " 'airplane': 13,\n",
       " 'surfboard': 14,\n",
       " 'hinge': 15,\n",
       " 'window': 16,\n",
       " 'umbrella': 17,\n",
       " 'painting': 18,\n",
       " 'flower': 19,\n",
       " 'curtain': 20,\n",
       " 'street light': 21,\n",
       " 'houseplant': 22,\n",
       " 'bed': 23,\n",
       " 'door handle': 24,\n",
       " 'plastic bag': 25,\n",
       " 'book': 26,\n",
       " 'pay phone': 27,\n",
       " 'stairs': 28,\n",
       " 'crossbar': 29,\n",
       " 'towel': 30,\n",
       " 'cattle': 31,\n",
       " 'person': 32,\n",
       " 'sheep': 33,\n",
       " 'log': 34,\n",
       " 'coin': 35,\n",
       " 'mushroom': 36,\n",
       " 'christmas tree': 37,\n",
       " 'footwear': 38,\n",
       " 'animal': 39,\n",
       " 'power plugs and sockets': 40,\n",
       " 'tarp': 41,\n",
       " 'ladder': 42,\n",
       " 'vent': 43,\n",
       " 'flag': 44,\n",
       " 'envelope': 45,\n",
       " 'window blind': 46,\n",
       " 'toilet paper': 47,\n",
       " 'stop sign': 48,\n",
       " 'adhesive tape': 49,\n",
       " 'tennis racket': 50,\n",
       " 'insect': 51,\n",
       " 'trash bin/can': 52,\n",
       " 'fish': 53,\n",
       " 'clock': 54,\n",
       " 'backpack': 55,\n",
       " 'toothbrush': 56,\n",
       " 'banner': 57,\n",
       " 'house': 58,\n",
       " 'refrigerator': 59,\n",
       " 'box': 60,\n",
       " 'hook': 61,\n",
       " 'chair': 62,\n",
       " 'land vehicle': 63,\n",
       " 'broccoli': 64,\n",
       " 'apple': 65,\n",
       " 'barrel': 66,\n",
       " 'trousers': 67,\n",
       " 'truck': 68,\n",
       " 'wheel': 69,\n",
       " 'elephant': 70,\n",
       " 'manhole': 71,\n",
       " 'train': 72,\n",
       " 'tag': 73,\n",
       " 'corded phone': 74,\n",
       " 'baseball bat': 75,\n",
       " 'plate': 76,\n",
       " 'toilet': 77,\n",
       " 'palm tree': 78,\n",
       " 'maple': 79,\n",
       " 'street sign': 80,\n",
       " 'bicycle': 81,\n",
       " 'scissors': 82,\n",
       " 'cat': 83,\n",
       " 'boat': 84,\n",
       " 'wheelchair': 85,\n",
       " 'vehicle': 86,\n",
       " 'support hose': 87,\n",
       " 'taillight': 88,\n",
       " 'willow': 89,\n",
       " 'air conditioner': 90,\n",
       " 'swimming pool': 91,\n",
       " 'sink': 92,\n",
       " 'traffic sign': 93,\n",
       " 'bowl': 94,\n",
       " 'cigar': 95,\n",
       " 'car tire': 96,\n",
       " 'crate': 97,\n",
       " 'mechanical fan': 98,\n",
       " 'television': 99,\n",
       " 'starfish': 100,\n",
       " 'drinking straw': 101,\n",
       " 'windmill': 102,\n",
       " 'handbag': 103,\n",
       " 'mirror': 104,\n",
       " 'blanket': 105,\n",
       " 'sandal': 106}"
      ]
     },
     "execution_count": 21,
     "metadata": {},
     "output_type": "execute_result"
    }
   ],
   "source": [
    "custom_class_map"
   ]
  }
 ],
 "metadata": {
  "kaggle": {
   "accelerator": "none",
   "dataSources": [
    {
     "datasetId": 7718820,
     "sourceId": 12250366,
     "sourceType": "datasetVersion"
    },
    {
     "datasetId": 7723850,
     "sourceId": 12257532,
     "sourceType": "datasetVersion"
    },
    {
     "datasetId": 7724010,
     "sourceId": 12257736,
     "sourceType": "datasetVersion"
    }
   ],
   "dockerImageVersionId": 31041,
   "isGpuEnabled": false,
   "isInternetEnabled": true,
   "language": "python",
   "sourceType": "notebook"
  },
  "kernelspec": {
   "display_name": "Python 3",
   "language": "python",
   "name": "python3"
  },
  "language_info": {
   "codemirror_mode": {
    "name": "ipython",
    "version": 3
   },
   "file_extension": ".py",
   "mimetype": "text/x-python",
   "name": "python",
   "nbconvert_exporter": "python",
   "pygments_lexer": "ipython3",
   "version": "3.11.11"
  }
 },
 "nbformat": 4,
 "nbformat_minor": 4
}
