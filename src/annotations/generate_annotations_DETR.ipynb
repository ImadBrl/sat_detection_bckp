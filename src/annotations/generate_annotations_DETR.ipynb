{
 "cells": [
  {
   "cell_type": "code",
   "execution_count": 2,
   "id": "c5c041b8",
   "metadata": {},
   "outputs": [
    {
     "name": "stderr",
     "output_type": "stream",
     "text": [
      "c:\\Users\\imad-\\Desktop\\Sat det\\code\\sat\\lib\\site-packages\\tqdm\\auto.py:21: TqdmWarning: IProgress not found. Please update jupyter and ipywidgets. See https://ipywidgets.readthedocs.io/en/stable/user_install.html\n",
      "  from .autonotebook import tqdm as notebook_tqdm\n"
     ]
    },
    {
     "name": "stdout",
     "output_type": "stream",
     "text": [
      "device used here is: cuda\n"
     ]
    }
   ],
   "source": [
    "import cv2\n",
    "import os\n",
    "import torch\n",
    "from transformers import DetrFeatureExtractor, DetrForObjectDetection\n",
    "from tqdm import tqdm\n",
    "device = \"cuda\" if torch.cuda.is_available() else \"cpu\"\n",
    "print(f\"device used here is: {device}\")"
   ]
  },
  {
   "cell_type": "code",
   "execution_count": 2,
   "id": "fd1d8057",
   "metadata": {},
   "outputs": [
    {
     "name": "stdout",
     "output_type": "stream",
     "text": [
      "CUDA disponible : True\n",
      "Nom du GPU : NVIDIA GeForce MX130\n"
     ]
    }
   ],
   "source": [
    "import torch\n",
    "\n",
    "print(\"CUDA disponible :\", torch.cuda.is_available())\n",
    "print(\"Nom du GPU :\", torch.cuda.get_device_name(0) if torch.cuda.is_available() else \"Aucun\")\n"
   ]
  },
  {
   "cell_type": "code",
   "execution_count": null,
   "id": "4e7a2cf1",
   "metadata": {},
   "outputs": [],
   "source": [
    "# Chemins\n",
    "image_dir = \"output_tiles\"\n",
    "images = [f for f in os.listdir(image_dir) if f.endswith((\".jpg\", \".tif\"))]\n",
    "label_dir = \"output_tiles/output_label_DETR\"\n",
    "os.makedirs(label_dir, exist_ok=True)"
   ]
  },
  {
   "cell_type": "code",
   "execution_count": 4,
   "id": "8da3d46c",
   "metadata": {},
   "outputs": [
    {
     "name": "stderr",
     "output_type": "stream",
     "text": [
      "c:\\Users\\imad-\\Desktop\\Sat det\\code\\sat\\lib\\site-packages\\transformers\\models\\detr\\feature_extraction_detr.py:38: FutureWarning: The class DetrFeatureExtractor is deprecated and will be removed in version 5 of Transformers. Please use DetrImageProcessor instead.\n",
      "  warnings.warn(\n",
      "Some weights of the model checkpoint at facebook/detr-resnet-50 were not used when initializing DetrForObjectDetection: ['model.backbone.conv_encoder.model.layer1.0.downsample.1.num_batches_tracked', 'model.backbone.conv_encoder.model.layer2.0.downsample.1.num_batches_tracked', 'model.backbone.conv_encoder.model.layer3.0.downsample.1.num_batches_tracked', 'model.backbone.conv_encoder.model.layer4.0.downsample.1.num_batches_tracked']\n",
      "- This IS expected if you are initializing DetrForObjectDetection from the checkpoint of a model trained on another task or with another architecture (e.g. initializing a BertForSequenceClassification model from a BertForPreTraining model).\n",
      "- This IS NOT expected if you are initializing DetrForObjectDetection from the checkpoint of a model that you expect to be exactly identical (initializing a BertForSequenceClassification model from a BertForSequenceClassification model).\n"
     ]
    }
   ],
   "source": [
    "# Charger le modèle DETR\n",
    "feature_extractor = DetrFeatureExtractor.from_pretrained('facebook/detr-resnet-50')\n",
    "model = DetrForObjectDetection.from_pretrained('facebook/detr-resnet-50')"
   ]
  },
  {
   "cell_type": "code",
   "execution_count": 9,
   "id": "a2568318",
   "metadata": {},
   "outputs": [],
   "source": [
    "# Liste des classes COCO\n",
    "coco_classes = [\n",
    "    'person', 'bicycle', 'car', 'motorcycle', 'airplane', 'bus', 'train', 'truck', 'boat', 'traffic light',\n",
    "    'fire hydrant', 'stop sign', 'parking meter', 'bench', 'bird', 'cat', 'dog', 'horse', 'sheep', 'cow',\n",
    "    'elephant', 'bear', 'zebra', 'giraffe', 'backpack', 'umbrella', 'handbag', 'tie', 'suitcase', 'frisbee',\n",
    "    'skis', 'snowboard', 'sports ball', 'kite', 'baseball bat', 'baseball glove', 'skateboard', 'surfboard',\n",
    "    'tennis racket', 'bottle', 'wine glass', 'cup', 'fork', 'knife', 'spoon', 'bowl', 'banana', 'apple',\n",
    "    'sandwich', 'orange', 'broccoli', 'carrot', 'hot dog', 'pizza', 'donut', 'cake', 'chair', 'couch',\n",
    "    'potted plant', 'bed', 'dining table', 'toilet', 'tv', 'laptop', 'mouse', 'remote', 'keyboard', 'cell phone',\n",
    "    'microwave', 'oven', 'toaster', 'sink', 'refrigerator', 'book', 'clock', 'vase', 'scissors', 'teddy bear',\n",
    "    'hair drier', 'toothbrush'\n",
    "]"
   ]
  },
  {
   "cell_type": "code",
   "execution_count": 5,
   "id": "0cc94c59",
   "metadata": {},
   "outputs": [],
   "source": [
    "def detect_objects(image):\n",
    "    # Prétraitement de l'image\n",
    "    inputs = feature_extractor(images=image, return_tensors=\"pt\")\n",
    "    # Inférence\n",
    "    outputs = model(**inputs)\n",
    "    # Post-traitement des résultats\n",
    "    results = feature_extractor.post_process_object_detection(outputs, threshold=0.5, target_sizes=[image.shape[:2]])\n",
    "    return results[0]"
   ]
  },
  {
   "cell_type": "code",
   "execution_count": 6,
   "id": "3ded7cad",
   "metadata": {},
   "outputs": [],
   "source": [
    "def generate_yolo_annotation(image, detections, classes, output_dir):\n",
    "    image_height, image_width = image.shape[:2]\n",
    "    for detection in detections:\n",
    "        class_id = classes.index(detection['label'])\n",
    "        x_center = detection['box']['center_x'] / image_width\n",
    "        y_center = detection['box']['center_y'] / image_height\n",
    "        width = detection['box']['width'] / image_width\n",
    "        height = detection['box']['height'] / image_height\n",
    "        annotation = f\"{class_id} {x_center:.6f} {y_center:.6f} {width:.6f} {height:.6f}\\n\"\n",
    "        with open(os.path.join(output_dir, f\"image_{i}.txt\"), 'a') as f:\n",
    "            f.write(annotation)\n"
   ]
  },
  {
   "cell_type": "code",
   "execution_count": 7,
   "id": "ba101a79",
   "metadata": {},
   "outputs": [
    {
     "name": "stderr",
     "output_type": "stream",
     "text": [
      "  0%|          | 0/1783 [00:00<?, ?it/s]"
     ]
    },
    {
     "name": "stderr",
     "output_type": "stream",
     "text": [
      "100%|██████████| 1783/1783 [56:46<00:00,  1.91s/it]\n"
     ]
    }
   ],
   "source": [
    "# Détecter les objets dans chaque image et générer les annotations\n",
    "for img_file in tqdm(images):\n",
    "    img_path = os.path.join(image_dir, img_file)\n",
    "    img = cv2.imread(img_path)\n",
    "    h, w = img.shape[:2]\n",
    "\n",
    "    # Inférence\n",
    "    results = detect_objects(img)\n",
    "\n",
    "    # Fichier d’annotation à écrire\n",
    "    label_path = os.path.join(label_dir, img_file.replace(\".jpg\", \".txt\").replace(\".tif\", \".txt\"))\n",
    "\n",
    "    with open(label_path, \"w\") as f:\n",
    "        for i, detection in enumerate(results['boxes']):\n",
    "            # Récupérer les coordonnées de la boîte englobante\n",
    "            x1, y1, x2, y2 = detection.tolist()\n",
    "            # Récupérer l'indice de la classe\n",
    "            class_id = int(results['labels'][i])\n",
    "            # Récupérer la probabilité de la classe (optionnel)\n",
    "            score = results['scores'][i]\n",
    "\n",
    "            # Calcul des valeurs normalisées YOLOv8\n",
    "            x_center = ((x1 + x2) / 2) / w\n",
    "            y_center = ((y1 + y2) / 2) / h\n",
    "            box_w = (x2 - x1) / w\n",
    "            box_h = (y2 - y1) / h\n",
    "\n",
    "            # Ligne formatée YOLO\n",
    "            line = f\"{class_id} {x_center:.6f} {y_center:.6f} {box_w:.6f} {box_h:.6f}\"\n",
    "            f.write(line + \"\\n\")"
   ]
  }
 ],
 "metadata": {
  "kernelspec": {
   "display_name": "sat",
   "language": "python",
   "name": "python3"
  },
  "language_info": {
   "codemirror_mode": {
    "name": "ipython",
    "version": 3
   },
   "file_extension": ".py",
   "mimetype": "text/x-python",
   "name": "python",
   "nbconvert_exporter": "python",
   "pygments_lexer": "ipython3",
   "version": "3.8.8"
  }
 },
 "nbformat": 4,
 "nbformat_minor": 5
}
